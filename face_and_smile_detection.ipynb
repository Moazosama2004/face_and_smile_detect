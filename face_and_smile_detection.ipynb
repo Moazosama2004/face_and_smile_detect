{
 "cells": [
  {
   "cell_type": "code",
   "execution_count": 2,
   "id": "0500a9f2",
   "metadata": {
    "scrolled": false
   },
   "outputs": [],
   "source": [
    "import cv2"
   ]
  },
  {
   "cell_type": "code",
   "execution_count": 8,
   "id": "babbcedf",
   "metadata": {},
   "outputs": [],
   "source": [
    "cam = cv2.VideoCapture(0)\n",
    "face_detect = cv2.CascadeClassifier(\"images/haarcascade_frontalface_default.xml\")\n",
    "smile_detect = cv2.CascadeClassifier(\"images/haarcascade_smile.xml\")\n",
    "while True :\n",
    "    rat , frame = cam.read()\n",
    "    gray_frame = cv2.cvtColor(frame , cv2.COLOR_BGR2GRAY)\n",
    "    faces = face_detect.detectMultiScale(gray_frame , 1.3 , 5)\n",
    "    smiles = smile_detect.detectMultiScale(gray_frame , 2.5 , 25)\n",
    "    for x,y,w,h in faces :\n",
    "        cv2.putText(frame  , \"Moaz Osama\", (x , y-10) , cv2.FONT_HERSHEY_PLAIN  , 1, (0,255,0) , 2)\n",
    "        cv2.rectangle(frame , (x,y) , (x+w , y+h) , (133,255,15) , 2)\n",
    "    for x,y,w,h in smiles :\n",
    "        cv2.rectangle(frame , (x,y) , (x+w , y+h) , (133,255,15) , 2)\n",
    "    frame = cv2.resize(frame , (800,600))\n",
    "    \n",
    "    cv2.imshow(\"Camera\" , frame)\n",
    "    if cv2.waitKey(1) & 0xff == ord(\"q\"):\n",
    "        break\n",
    "cam.release()\n",
    "cv2.destroyAllWindows()"
   ]
  },
  {
   "cell_type": "code",
   "execution_count": null,
   "id": "aa4aad12",
   "metadata": {},
   "outputs": [],
   "source": []
  },
  {
   "cell_type": "code",
   "execution_count": null,
   "id": "b7fc3390",
   "metadata": {},
   "outputs": [],
   "source": []
  }
 ],
 "metadata": {
  "kernelspec": {
   "display_name": "Python 3 (ipykernel)",
   "language": "python",
   "name": "python3"
  },
  "language_info": {
   "codemirror_mode": {
    "name": "ipython",
    "version": 3
   },
   "file_extension": ".py",
   "mimetype": "text/x-python",
   "name": "python",
   "nbconvert_exporter": "python",
   "pygments_lexer": "ipython3",
   "version": "3.9.13"
  }
 },
 "nbformat": 4,
 "nbformat_minor": 5
}
